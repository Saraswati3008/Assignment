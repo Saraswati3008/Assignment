{
 "cells": [
  {
   "cell_type": "markdown",
   "id": "520a9799-7985-4202-b57b-4fc8665599f5",
   "metadata": {},
   "source": [
    "# Data Science Tools and Ecosystem"
   ]
  },
  {
   "cell_type": "markdown",
   "id": "5c5c658b-bf35-457e-aceb-b84c662c5a5e",
   "metadata": {},
   "source": [
    "In this notebook, Data Science tools and Ecosystem are summarised."
   ]
  },
  {
   "cell_type": "markdown",
   "id": "42ab3498-eb47-4d26-bf12-c237f6c62413",
   "metadata": {},
   "source": [
    "**Objectives**\n",
    "- List popular Languages for Data Science\n",
    "- List commonly used libraries for Data Science\n",
    "- Evaluating Arithmatic expressions in Python"
   ]
  },
  {
   "cell_type": "markdown",
   "id": "0d55df6a-4e1a-4441-9403-5f614a55bce6",
   "metadata": {},
   "source": [
    "Some of the popular languages that data scientists use are:\n",
    "1. Python\n",
    "2. R\n",
    "3. SQL\n",
    "4. Java"
   ]
  },
  {
   "cell_type": "markdown",
   "id": "56176b45-75ac-462a-94bd-03a61c47c206",
   "metadata": {},
   "source": [
    "Some of the commonly used libraries used by data scientists include:\n",
    "1. NumPy\n",
    "2. Pandas\n",
    "3. SciPy\n",
    "4. Matplotlib\n"
   ]
  },
  {
   "cell_type": "markdown",
   "id": "a38d3880-2599-4206-8abe-02ca19774f16",
   "metadata": {},
   "source": [
    "| Data Science Tools |\n",
    "|--------------------|\n",
    "| Jupyter Notebook   |\n",
    "| Rstudio            |\n",
    "|Apache Zeppelin     |"
   ]
  },
  {
   "cell_type": "markdown",
   "id": "25e4ced6-7bb9-4dcb-bb00-da9438fa53ed",
   "metadata": {},
   "source": [
    "### Below are a few examples of evaluating arithmetic expressions in Python"
   ]
  },
  {
   "cell_type": "code",
   "execution_count": 2,
   "id": "ad229d9d-02a0-4765-b5b1-6c1d753f5ad4",
   "metadata": {
    "tags": []
   },
   "outputs": [
    {
     "data": {
      "text/plain": [
       "17"
      ]
     },
     "execution_count": 2,
     "metadata": {},
     "output_type": "execute_result"
    }
   ],
   "source": [
    "#This is a simple arithmatic expression to multiply and then add the integers\n",
    "(3*4)+5"
   ]
  },
  {
   "cell_type": "code",
   "execution_count": 3,
   "id": "45786333-e939-49a1-80bb-c9dd7c93e962",
   "metadata": {
    "tags": []
   },
   "outputs": [
    {
     "data": {
      "text/plain": [
       "3.3333333333333335"
      ]
     },
     "execution_count": 3,
     "metadata": {},
     "output_type": "execute_result"
    }
   ],
   "source": [
    "#This will convert 200 minutes to hours by divinding with 60\n",
    "200/60"
   ]
  },
  {
   "cell_type": "markdown",
   "id": "299ab133-344c-4b3e-a334-0158dd10fa5e",
   "metadata": {},
   "source": [
    "## Author\n",
    "Saraswati"
   ]
  },
  {
   "cell_type": "code",
   "execution_count": null,
   "id": "ccfe4ffc-90b9-47a1-91e4-98d349d8da97",
   "metadata": {},
   "outputs": [],
   "source": []
  }
 ],
 "metadata": {
  "kernelspec": {
   "display_name": "Python",
   "language": "python",
   "name": "conda-env-python-py"
  },
  "language_info": {
   "codemirror_mode": {
    "name": "ipython",
    "version": 3
   },
   "file_extension": ".py",
   "mimetype": "text/x-python",
   "name": "python",
   "nbconvert_exporter": "python",
   "pygments_lexer": "ipython3",
   "version": "3.7.12"
  }
 },
 "nbformat": 4,
 "nbformat_minor": 5
}
